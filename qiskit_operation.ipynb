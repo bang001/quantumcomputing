{
 "cells": [
  {
   "cell_type": "code",
   "execution_count": 1,
   "metadata": {},
   "outputs": [
    {
     "data": {
      "text/html": [
       "<pre style=\"word-wrap: normal;white-space: pre;background: #fff0;line-height: 1.1;font-family: &quot;Courier New&quot;,Courier,monospace\">        ┌───────────────────────────┐ ░ ┌─┐            \n",
       "   q_0: ┤0                          ├─░─┤M├────────────\n",
       "        │                           │ ░ └╥┘┌─┐         \n",
       "   q_1: ┤1                          ├─░──╫─┤M├─────────\n",
       "        │                           │ ░  ║ └╥┘┌─┐      \n",
       "   q_2: ┤2 quantum_volume_[5,5,276] ├─░──╫──╫─┤M├──────\n",
       "        │                           │ ░  ║  ║ └╥┘┌─┐   \n",
       "   q_3: ┤3                          ├─░──╫──╫──╫─┤M├───\n",
       "        │                           │ ░  ║  ║  ║ └╥┘┌─┐\n",
       "   q_4: ┤4                          ├─░──╫──╫──╫──╫─┤M├\n",
       "        └───────────────────────────┘ ░  ║  ║  ║  ║ └╥┘\n",
       "meas: 5/═════════════════════════════════╩══╩══╩══╩══╩═\n",
       "                                         0  1  2  3  4 </pre>"
      ],
      "text/plain": [
       "        ┌───────────────────────────┐ ░ ┌─┐            \n",
       "   q_0: ┤0                          ├─░─┤M├────────────\n",
       "        │                           │ ░ └╥┘┌─┐         \n",
       "   q_1: ┤1                          ├─░──╫─┤M├─────────\n",
       "        │                           │ ░  ║ └╥┘┌─┐      \n",
       "   q_2: ┤2 quantum_volume_[5,5,276] ├─░──╫──╫─┤M├──────\n",
       "        │                           │ ░  ║  ║ └╥┘┌─┐   \n",
       "   q_3: ┤3                          ├─░──╫──╫──╫─┤M├───\n",
       "        │                           │ ░  ║  ║  ║ └╥┘┌─┐\n",
       "   q_4: ┤4                          ├─░──╫──╫──╫──╫─┤M├\n",
       "        └───────────────────────────┘ ░  ║  ║  ║  ║ └╥┘\n",
       "meas: 5/═════════════════════════════════╩══╩══╩══╩══╩═\n",
       "                                         0  1  2  3  4 "
      ]
     },
     "execution_count": 1,
     "metadata": {},
     "output_type": "execute_result"
    }
   ],
   "source": [
    "import qiskit\n",
    " \n",
    "# Qiskit quantum circuits libraries\n",
    "quantum_circuit = qiskit.circuit.library.QuantumVolume(5)\n",
    "quantum_circuit.measure_all()\n",
    "quantum_circuit.draw()"
   ]
  },
  {
   "cell_type": "code",
   "execution_count": null,
   "metadata": {},
   "outputs": [],
   "source": []
  }
 ],
 "metadata": {
  "kernelspec": {
   "display_name": "Python 3.9 (pytorch)",
   "language": "python",
   "name": "pytorch"
  },
  "language_info": {
   "codemirror_mode": {
    "name": "ipython",
    "version": 3
   },
   "file_extension": ".py",
   "mimetype": "text/x-python",
   "name": "python",
   "nbconvert_exporter": "python",
   "pygments_lexer": "ipython3",
   "version": "3.9.12"
  },
  "orig_nbformat": 4
 },
 "nbformat": 4,
 "nbformat_minor": 2
}
